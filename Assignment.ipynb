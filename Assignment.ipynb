{
 "cells": [
  {
   "cell_type": "markdown",
   "id": "cf69b412-a5d0-4682-a40e-e57c814fc8ce",
   "metadata": {},
   "source": [
    "# My Jupyter Notebook on IBM Watson Studio"
   ]
  },
  {
   "cell_type": "markdown",
   "id": "701faf05-efcb-4af7-a63d-3ddd0cbe3252",
   "metadata": {},
   "source": [
    "__Vishal Mahindrakar__"
   ]
  },
  {
   "cell_type": "markdown",
   "id": "71042312-aa83-4d2e-a1b4-ed31a8e07945",
   "metadata": {},
   "source": [
    "Senior Data Scientist"
   ]
  },
  {
   "cell_type": "markdown",
   "id": "6c9e7c4a-5474-4a8e-80f4-1d04661d698d",
   "metadata": {},
   "source": [
    "_I am interested in data science because it can provide amazing insights based on data available in the manufacturing sector_"
   ]
  },
  {
   "cell_type": "markdown",
   "id": "327aabee-ee95-4f81-b36a-2ff6e3c7b63b",
   "metadata": {},
   "source": [
    "### The code below adds 2 numbers"
   ]
  },
  {
   "cell_type": "code",
   "execution_count": 2,
   "id": "a8d90f0a-acfc-4347-962a-99699fdedd84",
   "metadata": {},
   "outputs": [
    {
     "data": {
      "text/plain": [
       "81"
      ]
     },
     "execution_count": 2,
     "metadata": {},
     "output_type": "execute_result"
    }
   ],
   "source": [
    "25+56"
   ]
  },
  {
   "cell_type": "markdown",
   "id": "a18b622e-55fe-4b8a-8218-98bad35340fe",
   "metadata": {},
   "source": [
    "***"
   ]
  },
  {
   "cell_type": "markdown",
   "id": "60566e3b-037d-40f3-89f6-3449ad543c6a",
   "metadata": {},
   "source": [
    "* Bullet item 1"
   ]
  },
  {
   "cell_type": "markdown",
   "id": "27a3412f-8a02-40e6-9d54-5d409103747b",
   "metadata": {},
   "source": [
    "* Bullet item 2"
   ]
  },
  {
   "cell_type": "markdown",
   "id": "7b29c806-c6a1-4517-8bb9-36fa868bcfbb",
   "metadata": {},
   "source": [
    "* Bullet item 3"
   ]
  },
  {
   "cell_type": "markdown",
   "id": "dcb171e4-953b-4dfd-9ca6-fd622ff24d13",
   "metadata": {},
   "source": [
    "1  Numbered item 1"
   ]
  },
  {
   "cell_type": "markdown",
   "id": "1b588e9b-c9f7-4a3e-9fe7-911052c5ba38",
   "metadata": {},
   "source": [
    "2 Numbered item 2"
   ]
  },
  {
   "cell_type": "markdown",
   "id": "73564b83-fd24-4b69-9369-534ef66b4ff5",
   "metadata": {},
   "source": [
    "| Heading 1 | Heading 2 | Heading 3|\n",
    "| ------ | -------- | ------ |\n",
    "| Cell 1 | Cell 2 | Cell 3|"
   ]
  },
  {
   "cell_type": "code",
   "execution_count": null,
   "id": "4ce53c0d-f17a-4bf9-b115-badc3132a5fa",
   "metadata": {},
   "outputs": [],
   "source": []
  }
 ],
 "metadata": {
  "kernelspec": {
   "display_name": "Python",
   "language": "python",
   "name": "conda-env-python-py"
  },
  "language_info": {
   "codemirror_mode": {
    "name": "ipython",
    "version": 3
   },
   "file_extension": ".py",
   "mimetype": "text/x-python",
   "name": "python",
   "nbconvert_exporter": "python",
   "pygments_lexer": "ipython3",
   "version": "3.7.12"
  }
 },
 "nbformat": 4,
 "nbformat_minor": 5
}
